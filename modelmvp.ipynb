{
 "cells": [
  {
   "cell_type": "code",
   "execution_count": 18,
   "id": "a12059e4",
   "metadata": {},
   "outputs": [],
   "source": [
    "#all imports used\n",
    "import requests\n",
    "import pandas as pd\n",
    "from tensorflow.keras import Sequential\n",
    "from tensorflow.keras import models\n",
    "from tensorflow.keras import layers\n",
    "from tensorflow.keras.layers import LSTM, Dense\n",
    "import numpy as np\n",
    "from sklearn.model_selection import train_test_split"
   ]
  },
  {
   "cell_type": "code",
   "execution_count": 34,
   "id": "7d189c5e",
   "metadata": {},
   "outputs": [],
   "source": [
    "def get_crypto_data(crypto_name):\n",
    "    \n",
    "    #sources API coingecko\n",
    "    url = f\"https://api.coingecko.com/api/v3/coins/{crypto_name}/market_chart?vs_currency=usd&days=max&interval=daily\"\n",
    "    response = requests.get(url)\n",
    "    data = response.json()['prices']\n",
    "    \n",
    "    #creates DataFrame with columns date and price\n",
    "    df = pd.DataFrame(data, columns=['date', 'price'])\n",
    "    df['date'] = pd.to_datetime(df['date'], unit='ms')\n",
    "    df.set_index('date', inplace=True)\n",
    "    df.index = df.index.date\n",
    "\n",
    "    df = df.groupby(df.index).max()\n",
    "    return df"
   ]
  },
  {
   "cell_type": "code",
   "execution_count": 35,
   "id": "3b5e1a40",
   "metadata": {},
   "outputs": [],
   "source": [
    "def price_prediction(df):\n",
    "    \n",
    "    # Prepare data\n",
    "    price_data = df['price'].values\n",
    "\n",
    "    #How many previous prices the model will use to predict the target\n",
    "    past_days = 7\n",
    "    \n",
    "    X = []\n",
    "    y = []\n",
    "    for i in range(len(price_data) - past_days):\n",
    "        X.append(price_data[i:i+past_days])\n",
    "        y.append(price_data[i+past_days])\n",
    "\n",
    "    X = np.array(X)\n",
    "    y = np.array(y)\n",
    "    X = pd.DataFrame(X)\n",
    "    y = pd.DataFrame(y)\n",
    "    \n",
    "    #Leave 20% to test\n",
    "    X_train, X_test, y_train, y_test = train_test_split(X, y, test_size=0.2, random_state=42)\n",
    "    X_train.shape, X_test.shape, y_train.shape, y_test.shape\n",
    "\n",
    "    # Set up LSTM model\n",
    "    model = models.Sequential()\n",
    "    model.add(layers.LSTM(64, activation='relu', input_shape = (past_days, 1)))\n",
    "    model.add(layers.Dense(32, activation = \"relu\"))\n",
    "    model.add(layers.Dense(1, activation='linear'))\n",
    "\n",
    "    # Compile model\n",
    "    model.compile(loss='mse', optimizer='adam', metrics = [\"mae\"])\n",
    "\n",
    "    history = model.fit(X_train, y_train,\n",
    "                            validation_split = 0.3,\n",
    "                            shuffle = False,\n",
    "                            batch_size = 32,\n",
    "                            epochs = 15,\n",
    "                            verbose = 0)\n",
    "    \n",
    "    \n",
    "\n",
    "    # Get the last few prices, dependent on past_days\n",
    "    latest_prices = df['price'].values[-past_days:]\n",
    "    X = np.append(X, latest_prices)[-past_days:]\n",
    "    \n",
    "    # Reshape X to match the input shape of the LSTM model\n",
    "    X = X.reshape((1, past_days, 1))\n",
    "\n",
    "    \n",
    "    # Use the trained model to predict the next price\n",
    "    next_price = model.predict(X, verbose = 0)[0][0]\n",
    "    \n",
    "    return next_price"
   ]
  },
  {
   "cell_type": "code",
   "execution_count": 36,
   "id": "7effdb2a",
   "metadata": {},
   "outputs": [],
   "source": [
    "#returns DataFrame for prediction, passes in cryptocurrency\n",
    "df = get_crypto_data(\"bitcoin\")\n",
    "\n",
    "#returns predicted price for next day, passes in DataFrame\n",
    "prediction = price_prediction(df)"
   ]
  },
  {
   "cell_type": "code",
   "execution_count": null,
   "id": "b1f89e57",
   "metadata": {},
   "outputs": [],
   "source": []
  },
  {
   "cell_type": "code",
   "execution_count": null,
   "id": "91a1f4ad",
   "metadata": {},
   "outputs": [],
   "source": []
  }
 ],
 "metadata": {
  "kernelspec": {
   "display_name": "Python 3 (ipykernel)",
   "language": "python",
   "name": "python3"
  },
  "language_info": {
   "codemirror_mode": {
    "name": "ipython",
    "version": 3
   },
   "file_extension": ".py",
   "mimetype": "text/x-python",
   "name": "python",
   "nbconvert_exporter": "python",
   "pygments_lexer": "ipython3",
   "version": "3.10.6"
  },
  "toc": {
   "base_numbering": 1,
   "nav_menu": {},
   "number_sections": true,
   "sideBar": true,
   "skip_h1_title": false,
   "title_cell": "Table of Contents",
   "title_sidebar": "Contents",
   "toc_cell": false,
   "toc_position": {},
   "toc_section_display": true,
   "toc_window_display": false
  }
 },
 "nbformat": 4,
 "nbformat_minor": 5
}
