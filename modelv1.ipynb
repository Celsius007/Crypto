{
 "cells": [
  {
   "cell_type": "code",
   "execution_count": 19,
   "id": "1147d7f2",
   "metadata": {},
   "outputs": [],
   "source": [
    "#all imports used\n",
    "import requests\n",
    "import pandas as pd\n",
    "from tensorflow.keras import Sequential\n",
    "from tensorflow.keras import models\n",
    "from tensorflow.keras import layers\n",
    "from tensorflow.keras.layers import LSTM, Dense\n",
    "import numpy as np"
   ]
  },
  {
   "cell_type": "code",
   "execution_count": 20,
   "id": "9e0d7599",
   "metadata": {},
   "outputs": [
    {
     "data": {
      "text/html": [
       "<div>\n",
       "<style scoped>\n",
       "    .dataframe tbody tr th:only-of-type {\n",
       "        vertical-align: middle;\n",
       "    }\n",
       "\n",
       "    .dataframe tbody tr th {\n",
       "        vertical-align: top;\n",
       "    }\n",
       "\n",
       "    .dataframe thead th {\n",
       "        text-align: right;\n",
       "    }\n",
       "</style>\n",
       "<table border=\"1\" class=\"dataframe\">\n",
       "  <thead>\n",
       "    <tr style=\"text-align: right;\">\n",
       "      <th></th>\n",
       "      <th>price</th>\n",
       "    </tr>\n",
       "  </thead>\n",
       "  <tbody>\n",
       "    <tr>\n",
       "      <th>2013-04-28</th>\n",
       "      <td>135.300000</td>\n",
       "    </tr>\n",
       "    <tr>\n",
       "      <th>2013-04-29</th>\n",
       "      <td>141.960000</td>\n",
       "    </tr>\n",
       "    <tr>\n",
       "      <th>2013-04-30</th>\n",
       "      <td>135.300000</td>\n",
       "    </tr>\n",
       "    <tr>\n",
       "      <th>2013-05-01</th>\n",
       "      <td>117.000000</td>\n",
       "    </tr>\n",
       "    <tr>\n",
       "      <th>2013-05-02</th>\n",
       "      <td>103.430000</td>\n",
       "    </tr>\n",
       "    <tr>\n",
       "      <th>...</th>\n",
       "      <td>...</td>\n",
       "    </tr>\n",
       "    <tr>\n",
       "      <th>2023-03-08</th>\n",
       "      <td>22217.209885</td>\n",
       "    </tr>\n",
       "    <tr>\n",
       "      <th>2023-03-09</th>\n",
       "      <td>21712.651194</td>\n",
       "    </tr>\n",
       "    <tr>\n",
       "      <th>2023-03-10</th>\n",
       "      <td>20376.320007</td>\n",
       "    </tr>\n",
       "    <tr>\n",
       "      <th>2023-03-11</th>\n",
       "      <td>20195.228950</td>\n",
       "    </tr>\n",
       "    <tr>\n",
       "      <th>2023-03-12</th>\n",
       "      <td>21392.781196</td>\n",
       "    </tr>\n",
       "  </tbody>\n",
       "</table>\n",
       "<p>3604 rows × 1 columns</p>\n",
       "</div>"
      ],
      "text/plain": [
       "                   price\n",
       "2013-04-28    135.300000\n",
       "2013-04-29    141.960000\n",
       "2013-04-30    135.300000\n",
       "2013-05-01    117.000000\n",
       "2013-05-02    103.430000\n",
       "...                  ...\n",
       "2023-03-08  22217.209885\n",
       "2023-03-09  21712.651194\n",
       "2023-03-10  20376.320007\n",
       "2023-03-11  20195.228950\n",
       "2023-03-12  21392.781196\n",
       "\n",
       "[3604 rows x 1 columns]"
      ]
     },
     "execution_count": 20,
     "metadata": {},
     "output_type": "execute_result"
    }
   ],
   "source": [
    "#thinking ahead of mvp\n",
    "#optimised function to take in different cryptos\n",
    "def get_crypto_data(crypto_name):\n",
    "    \n",
    "    #sources API coingecko\n",
    "    url = f\"https://api.coingecko.com/api/v3/coins/{crypto_name}/market_chart?vs_currency=usd&days=max&interval=daily\"\n",
    "    response = requests.get(url)\n",
    "    data = response.json()['prices']\n",
    "    \n",
    "    #creates DataFrame with columns date and price\n",
    "    df = pd.DataFrame(data, columns=['date', 'price'])\n",
    "    df['date'] = pd.to_datetime(df['date'], unit='ms')\n",
    "    df.set_index('date', inplace=True)\n",
    "    df.index = df.index.date\n",
    "\n",
    "    df = df.groupby(df.index).max()\n",
    "    return df\n",
    "\n",
    "df = get_crypto_data(\"bitcoin\")\n",
    "df"
   ]
  },
  {
   "cell_type": "code",
   "execution_count": 21,
   "id": "7943b8bf",
   "metadata": {},
   "outputs": [],
   "source": [
    "# Prepare data\n",
    "price_data = df['price'].values\n",
    "\n",
    "#How many previous prices the model will use to predict the target\n",
    "past_days = 7"
   ]
  },
  {
   "cell_type": "code",
   "execution_count": 22,
   "id": "9f41ff21",
   "metadata": {},
   "outputs": [],
   "source": [
    "X = []\n",
    "y = []\n",
    "for i in range(len(price_data) - past_days):\n",
    "    X.append(price_data[i:i+past_days])\n",
    "    y.append(price_data[i+past_days])\n",
    "\n",
    "X = np.array(X)\n",
    "y = np.array(y)"
   ]
  },
  {
   "cell_type": "code",
   "execution_count": 23,
   "id": "dfe7847d",
   "metadata": {},
   "outputs": [
    {
     "data": {
      "text/plain": [
       "((3597, 7), (3597, 1))"
      ]
     },
     "execution_count": 23,
     "metadata": {},
     "output_type": "execute_result"
    }
   ],
   "source": [
    "#Check to see if the shapes line up (5 X's to predict single y)\n",
    "X_shape_check = pd.DataFrame(X.reshape((X.shape[0], -1)), columns=[\"dn-1\", \"dn-2\", \"dn-3\", \"dn-4\", \"dn-5\", \"dn-6\", \"dn-7\"])\n",
    "y_shape_check = pd.DataFrame(y, columns=[\"price\"])\n",
    "X_shape_check.shape, y_shape_check.shape"
   ]
  },
  {
   "cell_type": "code",
   "execution_count": 24,
   "id": "f79865a6",
   "metadata": {},
   "outputs": [
    {
     "data": {
      "text/html": [
       "<div>\n",
       "<style scoped>\n",
       "    .dataframe tbody tr th:only-of-type {\n",
       "        vertical-align: middle;\n",
       "    }\n",
       "\n",
       "    .dataframe tbody tr th {\n",
       "        vertical-align: top;\n",
       "    }\n",
       "\n",
       "    .dataframe thead th {\n",
       "        text-align: right;\n",
       "    }\n",
       "</style>\n",
       "<table border=\"1\" class=\"dataframe\">\n",
       "  <thead>\n",
       "    <tr style=\"text-align: right;\">\n",
       "      <th></th>\n",
       "      <th>dn-1</th>\n",
       "      <th>dn-2</th>\n",
       "      <th>dn-3</th>\n",
       "      <th>dn-4</th>\n",
       "      <th>dn-5</th>\n",
       "      <th>dn-6</th>\n",
       "      <th>dn-7</th>\n",
       "    </tr>\n",
       "  </thead>\n",
       "  <tbody>\n",
       "    <tr>\n",
       "      <th>0</th>\n",
       "      <td>135.300000</td>\n",
       "      <td>141.960000</td>\n",
       "      <td>135.300000</td>\n",
       "      <td>117.000000</td>\n",
       "      <td>103.430000</td>\n",
       "      <td>91.010000</td>\n",
       "      <td>111.250000</td>\n",
       "    </tr>\n",
       "    <tr>\n",
       "      <th>1</th>\n",
       "      <td>141.960000</td>\n",
       "      <td>135.300000</td>\n",
       "      <td>117.000000</td>\n",
       "      <td>103.430000</td>\n",
       "      <td>91.010000</td>\n",
       "      <td>111.250000</td>\n",
       "      <td>116.790000</td>\n",
       "    </tr>\n",
       "    <tr>\n",
       "      <th>2</th>\n",
       "      <td>135.300000</td>\n",
       "      <td>117.000000</td>\n",
       "      <td>103.430000</td>\n",
       "      <td>91.010000</td>\n",
       "      <td>111.250000</td>\n",
       "      <td>116.790000</td>\n",
       "      <td>118.330000</td>\n",
       "    </tr>\n",
       "    <tr>\n",
       "      <th>3</th>\n",
       "      <td>117.000000</td>\n",
       "      <td>103.430000</td>\n",
       "      <td>91.010000</td>\n",
       "      <td>111.250000</td>\n",
       "      <td>116.790000</td>\n",
       "      <td>118.330000</td>\n",
       "      <td>106.400000</td>\n",
       "    </tr>\n",
       "    <tr>\n",
       "      <th>4</th>\n",
       "      <td>103.430000</td>\n",
       "      <td>91.010000</td>\n",
       "      <td>111.250000</td>\n",
       "      <td>116.790000</td>\n",
       "      <td>118.330000</td>\n",
       "      <td>106.400000</td>\n",
       "      <td>112.640000</td>\n",
       "    </tr>\n",
       "    <tr>\n",
       "      <th>...</th>\n",
       "      <td>...</td>\n",
       "      <td>...</td>\n",
       "      <td>...</td>\n",
       "      <td>...</td>\n",
       "      <td>...</td>\n",
       "      <td>...</td>\n",
       "      <td>...</td>\n",
       "    </tr>\n",
       "    <tr>\n",
       "      <th>3592</th>\n",
       "      <td>23155.543747</td>\n",
       "      <td>23634.333489</td>\n",
       "      <td>23464.336542</td>\n",
       "      <td>22367.433022</td>\n",
       "      <td>22348.329915</td>\n",
       "      <td>22421.885806</td>\n",
       "      <td>22415.113660</td>\n",
       "    </tr>\n",
       "    <tr>\n",
       "      <th>3593</th>\n",
       "      <td>23634.333489</td>\n",
       "      <td>23464.336542</td>\n",
       "      <td>22367.433022</td>\n",
       "      <td>22348.329915</td>\n",
       "      <td>22421.885806</td>\n",
       "      <td>22415.113660</td>\n",
       "      <td>22217.209885</td>\n",
       "    </tr>\n",
       "    <tr>\n",
       "      <th>3594</th>\n",
       "      <td>23464.336542</td>\n",
       "      <td>22367.433022</td>\n",
       "      <td>22348.329915</td>\n",
       "      <td>22421.885806</td>\n",
       "      <td>22415.113660</td>\n",
       "      <td>22217.209885</td>\n",
       "      <td>21712.651194</td>\n",
       "    </tr>\n",
       "    <tr>\n",
       "      <th>3595</th>\n",
       "      <td>22367.433022</td>\n",
       "      <td>22348.329915</td>\n",
       "      <td>22421.885806</td>\n",
       "      <td>22415.113660</td>\n",
       "      <td>22217.209885</td>\n",
       "      <td>21712.651194</td>\n",
       "      <td>20376.320007</td>\n",
       "    </tr>\n",
       "    <tr>\n",
       "      <th>3596</th>\n",
       "      <td>22348.329915</td>\n",
       "      <td>22421.885806</td>\n",
       "      <td>22415.113660</td>\n",
       "      <td>22217.209885</td>\n",
       "      <td>21712.651194</td>\n",
       "      <td>20376.320007</td>\n",
       "      <td>20195.228950</td>\n",
       "    </tr>\n",
       "  </tbody>\n",
       "</table>\n",
       "<p>3597 rows × 7 columns</p>\n",
       "</div>"
      ],
      "text/plain": [
       "              dn-1          dn-2          dn-3          dn-4          dn-5  \\\n",
       "0       135.300000    141.960000    135.300000    117.000000    103.430000   \n",
       "1       141.960000    135.300000    117.000000    103.430000     91.010000   \n",
       "2       135.300000    117.000000    103.430000     91.010000    111.250000   \n",
       "3       117.000000    103.430000     91.010000    111.250000    116.790000   \n",
       "4       103.430000     91.010000    111.250000    116.790000    118.330000   \n",
       "...            ...           ...           ...           ...           ...   \n",
       "3592  23155.543747  23634.333489  23464.336542  22367.433022  22348.329915   \n",
       "3593  23634.333489  23464.336542  22367.433022  22348.329915  22421.885806   \n",
       "3594  23464.336542  22367.433022  22348.329915  22421.885806  22415.113660   \n",
       "3595  22367.433022  22348.329915  22421.885806  22415.113660  22217.209885   \n",
       "3596  22348.329915  22421.885806  22415.113660  22217.209885  21712.651194   \n",
       "\n",
       "              dn-6          dn-7  \n",
       "0        91.010000    111.250000  \n",
       "1       111.250000    116.790000  \n",
       "2       116.790000    118.330000  \n",
       "3       118.330000    106.400000  \n",
       "4       106.400000    112.640000  \n",
       "...            ...           ...  \n",
       "3592  22421.885806  22415.113660  \n",
       "3593  22415.113660  22217.209885  \n",
       "3594  22217.209885  21712.651194  \n",
       "3595  21712.651194  20376.320007  \n",
       "3596  20376.320007  20195.228950  \n",
       "\n",
       "[3597 rows x 7 columns]"
      ]
     },
     "execution_count": 24,
     "metadata": {},
     "output_type": "execute_result"
    }
   ],
   "source": [
    "X_shape_check"
   ]
  },
  {
   "cell_type": "code",
   "execution_count": 25,
   "id": "7abf0963",
   "metadata": {},
   "outputs": [
    {
     "data": {
      "text/html": [
       "<div>\n",
       "<style scoped>\n",
       "    .dataframe tbody tr th:only-of-type {\n",
       "        vertical-align: middle;\n",
       "    }\n",
       "\n",
       "    .dataframe tbody tr th {\n",
       "        vertical-align: top;\n",
       "    }\n",
       "\n",
       "    .dataframe thead th {\n",
       "        text-align: right;\n",
       "    }\n",
       "</style>\n",
       "<table border=\"1\" class=\"dataframe\">\n",
       "  <thead>\n",
       "    <tr style=\"text-align: right;\">\n",
       "      <th></th>\n",
       "      <th>price</th>\n",
       "    </tr>\n",
       "  </thead>\n",
       "  <tbody>\n",
       "    <tr>\n",
       "      <th>0</th>\n",
       "      <td>116.790000</td>\n",
       "    </tr>\n",
       "    <tr>\n",
       "      <th>1</th>\n",
       "      <td>118.330000</td>\n",
       "    </tr>\n",
       "    <tr>\n",
       "      <th>2</th>\n",
       "      <td>106.400000</td>\n",
       "    </tr>\n",
       "    <tr>\n",
       "      <th>3</th>\n",
       "      <td>112.640000</td>\n",
       "    </tr>\n",
       "    <tr>\n",
       "      <th>4</th>\n",
       "      <td>113.000000</td>\n",
       "    </tr>\n",
       "    <tr>\n",
       "      <th>...</th>\n",
       "      <td>...</td>\n",
       "    </tr>\n",
       "    <tr>\n",
       "      <th>3592</th>\n",
       "      <td>22217.209885</td>\n",
       "    </tr>\n",
       "    <tr>\n",
       "      <th>3593</th>\n",
       "      <td>21712.651194</td>\n",
       "    </tr>\n",
       "    <tr>\n",
       "      <th>3594</th>\n",
       "      <td>20376.320007</td>\n",
       "    </tr>\n",
       "    <tr>\n",
       "      <th>3595</th>\n",
       "      <td>20195.228950</td>\n",
       "    </tr>\n",
       "    <tr>\n",
       "      <th>3596</th>\n",
       "      <td>21392.781196</td>\n",
       "    </tr>\n",
       "  </tbody>\n",
       "</table>\n",
       "<p>3597 rows × 1 columns</p>\n",
       "</div>"
      ],
      "text/plain": [
       "             price\n",
       "0       116.790000\n",
       "1       118.330000\n",
       "2       106.400000\n",
       "3       112.640000\n",
       "4       113.000000\n",
       "...            ...\n",
       "3592  22217.209885\n",
       "3593  21712.651194\n",
       "3594  20376.320007\n",
       "3595  20195.228950\n",
       "3596  21392.781196\n",
       "\n",
       "[3597 rows x 1 columns]"
      ]
     },
     "execution_count": 25,
     "metadata": {},
     "output_type": "execute_result"
    }
   ],
   "source": [
    "y_shape_check"
   ]
  },
  {
   "cell_type": "code",
   "execution_count": 26,
   "id": "29945be4",
   "metadata": {},
   "outputs": [
    {
     "data": {
      "text/plain": [
       "((2877, 7), (720, 7), (2877,), (720,))"
      ]
     },
     "execution_count": 26,
     "metadata": {},
     "output_type": "execute_result"
    }
   ],
   "source": [
    "from sklearn.model_selection import train_test_split\n",
    "\n",
    "#Leave 20% to test\n",
    "X_train, X_test, y_train, y_test = train_test_split(X, y, test_size=0.2, random_state=42)\n",
    "X_train.shape, X_test.shape, y_train.shape, y_test.shape"
   ]
  },
  {
   "cell_type": "code",
   "execution_count": 27,
   "id": "bbba50cc",
   "metadata": {},
   "outputs": [],
   "source": [
    "# Set up LSTM model\n",
    "model = models.Sequential()\n",
    "model.add(layers.LSTM(64, activation='relu', input_shape = (past_days, 1)))\n",
    "model.add(layers.Dense(32, activation = \"relu\"))\n",
    "model.add(layers.Dense(1, activation='linear'))"
   ]
  },
  {
   "cell_type": "code",
   "execution_count": 28,
   "id": "484006ab",
   "metadata": {},
   "outputs": [],
   "source": [
    "# Compile model\n",
    "model.compile(loss='mse', optimizer='adam', metrics = [\"mae\"])"
   ]
  },
  {
   "cell_type": "code",
   "execution_count": 29,
   "id": "4b95ffc9",
   "metadata": {},
   "outputs": [
    {
     "name": "stdout",
     "output_type": "stream",
     "text": [
      "Model: \"sequential_1\"\n",
      "_________________________________________________________________\n",
      " Layer (type)                Output Shape              Param #   \n",
      "=================================================================\n",
      " lstm_1 (LSTM)               (None, 64)                16896     \n",
      "                                                                 \n",
      " dense_2 (Dense)             (None, 32)                2080      \n",
      "                                                                 \n",
      " dense_3 (Dense)             (None, 1)                 33        \n",
      "                                                                 \n",
      "=================================================================\n",
      "Total params: 19,009\n",
      "Trainable params: 19,009\n",
      "Non-trainable params: 0\n",
      "_________________________________________________________________\n"
     ]
    }
   ],
   "source": [
    "#Model summary\n",
    "model.summary()"
   ]
  },
  {
   "cell_type": "code",
   "execution_count": 30,
   "id": "975c7003",
   "metadata": {},
   "outputs": [],
   "source": [
    "#Fit the model\n",
    "history = model.fit(X_train, y_train,\n",
    "                        validation_split = 0.3,\n",
    "                        shuffle = False,\n",
    "                        batch_size = 32,\n",
    "                        epochs = 15,\n",
    "                        verbose = 0)"
   ]
  },
  {
   "cell_type": "code",
   "execution_count": 31,
   "id": "b6ef0106",
   "metadata": {},
   "outputs": [
    {
     "name": "stdout",
     "output_type": "stream",
     "text": [
      "1578743.125 558.07470703125\n"
     ]
    }
   ],
   "source": [
    "# Evaluate performance on test data\n",
    "loss, mae = model.evaluate(X_test, y_test, verbose=0)\n",
    "print(loss, mae)"
   ]
  },
  {
   "cell_type": "code",
   "execution_count": 32,
   "id": "5e41d40a",
   "metadata": {},
   "outputs": [
    {
     "data": {
      "text/plain": [
       "array([22421.88580585, 22415.11365969, 22217.20988491, 21712.65119391,\n",
       "       20376.32000743, 20195.22895027, 21392.78119613])"
      ]
     },
     "execution_count": 32,
     "metadata": {},
     "output_type": "execute_result"
    }
   ],
   "source": [
    "# Get the last few prices, dependent on past_days\n",
    "latest_prices = df['price'].values[-past_days:]\n",
    "latest_prices"
   ]
  },
  {
   "cell_type": "code",
   "execution_count": 33,
   "id": "d5c21c15",
   "metadata": {},
   "outputs": [],
   "source": [
    "X = np.append(X, latest_prices)[-past_days:]"
   ]
  },
  {
   "cell_type": "code",
   "execution_count": 34,
   "id": "516d4e59",
   "metadata": {},
   "outputs": [
    {
     "data": {
      "text/plain": [
       "21750.2"
      ]
     },
     "execution_count": 34,
     "metadata": {},
     "output_type": "execute_result"
    }
   ],
   "source": [
    "# Reshape X to match the input shape of the LSTM model\n",
    "X = X.reshape((1, past_days, 1))\n",
    "\n",
    "# Use the trained model to predict the next price\n",
    "next_price = model.predict(X, verbose = 0)[0][0]\n",
    "next_price"
   ]
  }
 ],
 "metadata": {
  "kernelspec": {
   "display_name": "Python 3 (ipykernel)",
   "language": "python",
   "name": "python3"
  },
  "language_info": {
   "codemirror_mode": {
    "name": "ipython",
    "version": 3
   },
   "file_extension": ".py",
   "mimetype": "text/x-python",
   "name": "python",
   "nbconvert_exporter": "python",
   "pygments_lexer": "ipython3",
   "version": "3.10.6"
  },
  "toc": {
   "base_numbering": 1,
   "nav_menu": {},
   "number_sections": true,
   "sideBar": true,
   "skip_h1_title": false,
   "title_cell": "Table of Contents",
   "title_sidebar": "Contents",
   "toc_cell": false,
   "toc_position": {},
   "toc_section_display": true,
   "toc_window_display": false
  }
 },
 "nbformat": 4,
 "nbformat_minor": 5
}
